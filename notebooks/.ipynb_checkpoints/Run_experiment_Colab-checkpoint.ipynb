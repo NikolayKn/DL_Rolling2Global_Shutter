{
 "cells": [
  {
   "cell_type": "code",
   "execution_count": 2,
   "metadata": {
    "colab": {
     "base_uri": "https://localhost:8080/"
    },
    "id": "FCOarP4OVsE5",
    "outputId": "f43abd79-45eb-4eeb-afc3-0ed529d14e3d"
   },
   "outputs": [
    {
     "name": "stdout",
     "output_type": "stream",
     "text": [
      "Cloning into 'RSCD'...\n",
      "remote: Enumerating objects: 121, done.\u001b[K\n",
      "remote: Counting objects: 100% (121/121), done.\u001b[K\n",
      "remote: Compressing objects: 100% (103/103), done.\u001b[K\n",
      "remote: Total 121 (delta 23), reused 102 (delta 12), pack-reused 0\u001b[K\n",
      "Receiving objects: 100% (121/121), 1.68 MiB | 31.95 MiB/s, done.\n",
      "Resolving deltas: 100% (23/23), done.\n"
     ]
    }
   ],
   "source": [
    "!git clone https://github.com/NikolayKn/DL_Rolling2Global_Shutter.git"
   ]
  },
  {
   "cell_type": "code",
   "execution_count": 3,
   "metadata": {
    "colab": {
     "base_uri": "https://localhost:8080/"
    },
    "id": "5Mr-PJLiYgbr",
    "outputId": "bcab7acb-bcbb-42e6-bcc8-f25d1d2a6030"
   },
   "outputs": [
    {
     "name": "stdout",
     "output_type": "stream",
     "text": [
      "Mounted at /content/drive/\n"
     ]
    }
   ],
   "source": [
    "import gdown\n",
    "from google.colab import drive\n",
    "drive.mount('/content/drive/')"
   ]
  },
  {
   "cell_type": "code",
   "execution_count": 4,
   "metadata": {
    "colab": {
     "base_uri": "https://localhost:8080/",
     "height": 109
    },
    "id": "viQfsmsnXvkl",
    "outputId": "ae547aa8-441e-4e09-c25b-c3af9387bc00"
   },
   "outputs": [
    {
     "name": "stderr",
     "output_type": "stream",
     "text": [
      "Downloading...\n",
      "From: https://drive.google.com/uc?id=1zyMk6wNauqDRFGvC2leEH3BLQquIVa5H\n",
      "To: /content/fastec_rscd.zip\n",
      "100%|██████████| 5.59G/5.59G [03:07<00:00, 29.8MB/s]\n"
     ]
    },
    {
     "data": {
      "application/vnd.google.colaboratory.intrinsic+json": {
       "type": "string"
      },
      "text/plain": [
       "'./fastec_rscd.zip'"
      ]
     },
     "execution_count": 4,
     "metadata": {},
     "output_type": "execute_result"
    }
   ],
   "source": [
    "gdown.download(\"https://drive.google.com/file/d/1zyMk6wNauqDRFGvC2leEH3BLQquIVa5H/view?usp=drive_link\",\"./fastec_rscd.zip\",quiet=False, fuzzy=True)"
   ]
  },
  {
   "cell_type": "code",
   "execution_count": 7,
   "metadata": {
    "id": "9Bqh58EsZial"
   },
   "outputs": [],
   "source": [
    "# For downloaded files with gdown\n",
    "!unzip -q ./fastec_rscd.zip"
   ]
  },
  {
   "cell_type": "code",
   "execution_count": null,
   "metadata": {
    "id": "erh2a9mWV9ln"
   },
   "outputs": [],
   "source": [
    "!sh /content/RSCD/install.sh"
   ]
  },
  {
   "cell_type": "code",
   "execution_count": 11,
   "metadata": {
    "id": "KbNGUqEjedF9"
   },
   "outputs": [],
   "source": [
    "import lmdb\n",
    "import lpips\n",
    "import meshzoo"
   ]
  },
  {
   "cell_type": "code",
   "execution_count": 15,
   "metadata": {
    "id": "J5g71Za_LvH_"
   },
   "outputs": [],
   "source": [
    "with open('/usr/local/lib/python3.10/dist-packages/forward_warp_package-0.0.1-py3.10-linux-x86_64.egg/forward_warp_package/utils.py', 'w', encoding=\"utf-8\") as f:\n",
    "  f.write('import torch\\nimport meshzoo\\n\\ndef generate_2D_mesh(H, W):\\n\\t_, faces = meshzoo.rectangle(-1., 1., -1., 1., W, H)\\n\\tx = torch.arange(0, W, 1).float().cuda() \\n\\ty = torch.arange(0, H, 1).float().cuda()\\n\\txx = x.repeat(H, 1)\\n\\tyy = y.view(H, 1).repeat(1, W)\\n\\tgrid = torch.stack([xx, yy], dim=0) \\n\\treturn grid, faces')"
   ]
  },
  {
   "cell_type": "code",
   "execution_count": 42,
   "metadata": {
    "colab": {
     "base_uri": "https://localhost:8080/"
    },
    "id": "htP2U_ygXclb",
    "outputId": "a0ff6ed0-1c19-4700-c3c6-35c3b249fd3b",
    "scrolled": true
   },
   "outputs": [
    {
     "name": "stdout",
     "output_type": "stream",
     "text": [
      "2023/05/25, 15:31:13 - recording parameters ...\n",
      "description: develop\n",
      "seed: 39\n",
      "threads: 4\n",
      "cpu: False\n",
      "num_gpus: 1\n",
      "resume: False\n",
      "resume_file: \n",
      "data_root: /content\n",
      "dataset: rscd_lmdb\n",
      "save_dir: ./experiment/\n",
      "frames: 3\n",
      "patch_size: [256, 256]\n",
      "model: JCD\n",
      "future_frames: 1\n",
      "past_frames: 1\n",
      "activation: relu\n",
      "loss: 10*L1_Charbonnier_loss_color|1*Perceptual|0.1*Variation\n",
      "metrics: PSNR\n",
      "optimizer: Adam\n",
      "lr: 0.0003\n",
      "lr_scheduler: cosine\n",
      "batch_size: 4\n",
      "milestones: [200, 400]\n",
      "decay_gamma: 0.5\n",
      "start_epoch: 1\n",
      "end_epoch: 1\n",
      "test_only: False\n",
      "test_frames: 3\n",
      "test_save_dir: None\n",
      "test_checkpoint: /home/zhong/Project/ESTRNN/ESTRNN/experiment/2020_09_21_00_59_16_ESTRNN_gopro_ds/model_best.path.tar\n",
      "video: True\n",
      "time: 2023-05-25 15:31:13.589536\n",
      "\n",
      "2023/05/25, 15:31:13 - building JCD model ...\n",
      "/usr/local/lib/python3.10/dist-packages/torchvision/models/_utils.py:208: UserWarning: The parameter 'pretrained' is deprecated since 0.13 and may be removed in the future, please use 'weights' instead.\n",
      "  warnings.warn(\n",
      "/usr/local/lib/python3.10/dist-packages/torchvision/models/_utils.py:223: UserWarning: Arguments other than a weight enum or `None` for 'weights' are deprecated since 0.13 and may be removed in the future. The current behavior is equivalent to passing `weights=VGG19_Weights.IMAGENET1K_V1`. You can also use `weights=VGG19_Weights.DEFAULT` to get the most up-to-date weights.\n",
      "  warnings.warn(msg)\n",
      "\n",
      "2023/05/25, 15:31:15 - loading rscd_lmdb dataloader ...\n",
      "/usr/local/lib/python3.10/dist-packages/torch/utils/data/dataloader.py:560: UserWarning: This DataLoader will create 4 worker processes in total. Our suggested max number of worker in current system is 2, which is smaller than what this DataLoader is going to create. Please be aware that excessive worker creation might get DataLoader running slow or even freeze, lower the worker number to avoid potential slowness/freeze if necessary.\n",
      "  warnings.warn(_create_warning_msg(\n",
      "\n",
      "2023/05/25, 15:31:15 - [Epoch 1 / lr 3.00e-04]\n",
      "100%|███████████████████████████████████████| 2400/2400 [29:42<00:00,  1.35it/s]\n",
      "[train] epoch time: 1782.50s, average batch time: 2.97s\n",
      "[train] 10*L1_Charbonnier_loss_color|1*Perceptual|0.1*Variation : 8.1235 (best 8.1235), PSNR : 21.4401 (best 21.4401)\n",
      "[train] L1_Charbonnier_loss_color : 8.123481; Perceptual : 5.834352; Variation : 0.000239;\n",
      "100%|█████████████████████████████████████████| 720/720 [02:57<00:00,  4.06it/s]\n",
      "[valid] epoch time: 177.03s, average batch time: 0.98s\n",
      "[valid] 10*L1_Charbonnier_loss_color|1*Perceptual|0.1*Variation : 7.5621 (best 7.5621), PSNR : 20.4281 (best 20.4281)\n",
      "[valid] L1_Charbonnier_loss_color : 7.562148; Perceptual : 5.138270; Variation : 0.000002;\n",
      "\n",
      "2023/05/25, 16:03:55 - rscd_lmdb image results generating ...\n",
      "2023/05/25, 16:03:56 - seq 000 image results generating ...\n",
      "/content/RSCD/train/metrics.py:57: FutureWarning: `multichannel` is a deprecated argument name for `structural_similarity`. It will be removed in version 1.0. Please use `channel_axis` instead.\n",
      "  ssim = compare_ssim(y, x, multichannel=True, gaussian_weights=True, sigma=1.5, use_sample_covariance=False,\n",
      "/usr/local/lib/python3.10/dist-packages/torchvision/models/_utils.py:223: UserWarning: Arguments other than a weight enum or `None` for 'weights' are deprecated since 0.13 and may be removed in the future. The current behavior is equivalent to passing `weights=AlexNet_Weights.IMAGENET1K_V1`. You can also use `weights=AlexNet_Weights.DEFAULT` to get the most up-to-date weights.\n",
      "  warnings.warn(msg)\n",
      "Downloading: \"https://download.pytorch.org/models/alexnet-owt-7be5be79.pth\" to /root/.cache/torch/hub/checkpoints/alexnet-owt-7be5be79.pth\n",
      "100% 233M/233M [00:08<00:00, 27.3MB/s]\n",
      "2023/05/25, 16:05:52 - seq 001 image results generating ...\n",
      "2023/05/25, 16:07:34 - seq 002 image results generating ...\n",
      "2023/05/25, 16:09:18 - seq 003 image results generating ...\n",
      "Traceback (most recent call last):\n",
      "  File \"/content/RSCD/main.py\", line 7, in <module>\n",
      "    trainer.run()\n",
      "  File \"/content/RSCD/train/trainer.py\", line 40, in run\n",
      "    test(self.para, logger)\n",
      "  File \"/content/RSCD/train/trainer.py\", line 305, in test\n",
      "    output_seq = model(input_seq)\n",
      "  File \"/usr/local/lib/python3.10/dist-packages/torch/nn/modules/module.py\", line 1501, in _call_impl\n",
      "    return forward_call(*args, **kwargs)\n",
      "  File \"/usr/local/lib/python3.10/dist-packages/torch/nn/parallel/data_parallel.py\", line 169, in forward\n",
      "    return self.module(*inputs[0], **kwargs[0])\n",
      "  File \"/usr/local/lib/python3.10/dist-packages/torch/nn/modules/module.py\", line 1501, in _call_impl\n",
      "    return forward_call(*args, **kwargs)\n",
      "  File \"/content/RSCD/model/JCD.py\", line 270, in forward\n",
      "    warper2 = ForwardWarp.create_with_implicit_mesh(B, C, H, W, 2, 0.5)\n",
      "  File \"/usr/local/lib/python3.10/dist-packages/forward_warp_package-0.0.1-py3.10-linux-x86_64.egg/forward_warp_package/flow_forward_shift.py\", line 60, in create_with_implicit_mesh\n",
      "    grid, _ = generate_2D_mesh(H,W)\n",
      "  File \"/usr/local/lib/python3.10/dist-packages/forward_warp_package-0.0.1-py3.10-linux-x86_64.egg/forward_warp_package/utils.py\", line 6, in generate_2D_mesh\n",
      "    x = torch.arange(0, W, 1).float().cuda() \n",
      "KeyboardInterrupt\n",
      "^C\n"
     ]
    }
   ],
   "source": [
    "!python /content/RSCD/main.py --data_root /content --model JCD --dataset rscd_lmdb --video --batch_size 4 --end_epoch 1"
   ]
  },
  {
   "cell_type": "code",
   "execution_count": null,
   "metadata": {
    "colab": {
     "base_uri": "https://localhost:8080/"
    },
    "id": "W0F6CzVEZXav",
    "outputId": "87d34cf9-bf69-4499-84aa-22e41fd72c53",
    "scrolled": false
   },
   "outputs": [],
   "source": [
    "!python /content/RSCD/main.py --data_root /content --model Unet_mini --dataset rscd_lmdb --video --batch_size 4 --end_epoch 1"
   ]
  }
 ],
 "metadata": {
  "accelerator": "GPU",
  "colab": {
   "gpuType": "T4",
   "provenance": []
  },
  "gpuClass": "standard",
  "kernelspec": {
   "display_name": "Python 3 (ipykernel)",
   "language": "python",
   "name": "python3"
  },
  "language_info": {
   "codemirror_mode": {
    "name": "ipython",
    "version": 3
   },
   "file_extension": ".py",
   "mimetype": "text/x-python",
   "name": "python",
   "nbconvert_exporter": "python",
   "pygments_lexer": "ipython3",
   "version": "3.10.6"
  }
 },
 "nbformat": 4,
 "nbformat_minor": 1
}
