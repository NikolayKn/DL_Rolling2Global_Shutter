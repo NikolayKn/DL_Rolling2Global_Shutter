{
 "cells": [
  {
   "cell_type": "code",
   "execution_count": null,
   "id": "f67d27ab",
   "metadata": {},
   "outputs": [],
   "source": [
    "!mkdir datasets"
   ]
  },
  {
   "cell_type": "code",
   "execution_count": 5,
   "id": "c4075e02",
   "metadata": {},
   "outputs": [],
   "source": [
    "!mkdir datasets/CIFAR10"
   ]
  },
  {
   "cell_type": "code",
   "execution_count": 1,
   "id": "33c79b39",
   "metadata": {},
   "outputs": [],
   "source": [
    "import torch\n",
    "import torch.nn as nn\n",
    "import torchvision\n",
    "import numpy as np\n",
    "import matplotlib.pyplot as plt\n",
    "from tqdm import trange\n",
    "from tqdm import tqdm"
   ]
  },
  {
   "cell_type": "code",
   "execution_count": 2,
   "id": "32532f2e",
   "metadata": {},
   "outputs": [
    {
     "name": "stderr",
     "output_type": "stream",
     "text": [
      "/home/nikolay/Documents/Environments/r2g_shutter/lib/python3.10/site-packages/torch/cuda/__init__.py:107: UserWarning: CUDA initialization: CUDA unknown error - this may be due to an incorrectly set up environment, e.g. changing env variable CUDA_VISIBLE_DEVICES after program start. Setting the available devices to be zero. (Triggered internally at ../c10/cuda/CUDAFunctions.cpp:109.)\n",
      "  return torch._C._cuda_getDeviceCount() > 0\n"
     ]
    }
   ],
   "source": [
    "torch.random.manual_seed(42)\n",
    "device = torch.device('cuda:0' if torch.cuda.is_available() else 'cpu')\n",
    "data_path = './datasets/CIFAR10'"
   ]
  },
  {
   "cell_type": "code",
   "execution_count": 3,
   "id": "c9cdb863",
   "metadata": {},
   "outputs": [],
   "source": [
    "device = torch.device('cuda:0' if torch.cuda.is_available() else 'cpu')"
   ]
  },
  {
   "cell_type": "code",
   "execution_count": 4,
   "id": "3a5770f5",
   "metadata": {
    "scrolled": true
   },
   "outputs": [
    {
     "data": {
      "text/plain": [
       "device(type='cpu')"
      ]
     },
     "execution_count": 4,
     "metadata": {},
     "output_type": "execute_result"
    }
   ],
   "source": [
    "device"
   ]
  },
  {
   "cell_type": "code",
   "execution_count": 5,
   "id": "29770cca",
   "metadata": {},
   "outputs": [],
   "source": [
    "class Bluring:\n",
    "    def __init__(self, kernel, padding=0, stride=1 ):\n",
    "        assert len(kernel.shape) == 2\n",
    "        self.kernel = kernel\n",
    "        self.v_pad = int(np.ceil((kernel.shape[1] - 1)/2))\n",
    "        self.h_pad = int(np.ceil((kernel.shape[0] - 1)/2))\n",
    "        self.padding = int(max(self.v_pad, self.h_pad))\n",
    "        self.stride = 1\n",
    "        \n",
    "    def __call__(self, sample):\n",
    "        #image, landmark = sample[0], sample[1]\n",
    "        channels = sample.shape[-3]\n",
    "\n",
    "        #Constructing filters for conv2d\n",
    "        k_array = []\n",
    "        for k in range(channels):\n",
    "            kernel = (*(torch.zeros_like(self.kernel),)*k,\n",
    "                      self.kernel,\n",
    "                      *(torch.zeros_like(self.kernel),)*(channels-k-1))\n",
    "            k_array.append(torch.stack(kernel, dim=0))\n",
    "        kernels = torch.stack((*k_array,), dim=0).to(device)\n",
    "        \n",
    "        #conv2d\n",
    "        #print(sample.shape)\n",
    "        if len(sample.shape) < 4:\n",
    "            sample = sample[None,:]\n",
    "            \n",
    "        #print(sample.shape)\n",
    "        res = torch.nn.functional.conv2d(sample, kernels, padding=self.padding, stride=self.stride)\n",
    "\n",
    "        #cutting\n",
    "        res = self.cutting(res)\n",
    "        \n",
    "        #reducing dimension\n",
    "        res = torch.unbind(res)[0]\n",
    "        \n",
    "        #dummy normalization\n",
    "        pixel_ones = torch.ones(sample.shape[-3],sample.shape[-2],sample.shape[-1]).to(device)\n",
    "        #pixel_ones = torch.ones_like(sample)\n",
    "        sum_pixels = torch.nn.functional.conv2d(pixel_ones[None,:], kernels, padding=self.padding, stride=self.stride)\n",
    "        sum_pixels = self.cutting(sum_pixels)\n",
    "        norm_matrix = torch.pow(sum_pixels,-1)\n",
    "        norm_res = torch.mul(res, norm_matrix)\n",
    "        \n",
    "        #reducing dimension\n",
    "        norm_res = torch.unbind(norm_res)[0]\n",
    "        \n",
    "        return (norm_res)\n",
    "    \n",
    "    \n",
    "    def cutting(self, img):\n",
    "        if self.v_pad < self.h_pad:\n",
    "            cat = int(self.h_pad - self.v_pad)\n",
    "            img = img[:,:,:,cat:-cat]\n",
    "        elif self.h_pad < self.v_pad:\n",
    "            cat = int(self.v_pad - self.h_pad)\n",
    "            img = img[:,:,cat:-cat,:]\n",
    "            \n",
    "        #additional horizontal catting (not or right)    \n",
    "        if kernel.shape[0] % 2 ==0:\n",
    "            img = img[:,:,:-1,:]\n",
    "            \n",
    "        #additional vertical catting (not or right)    \n",
    "        if kernel.shape[1] % 2 ==0:\n",
    "            img = img[:,:,:,:-1]\n",
    "        return img\n",
    "        "
   ]
  },
  {
   "cell_type": "code",
   "execution_count": 7,
   "id": "3b98b2a7",
   "metadata": {
    "scrolled": true
   },
   "outputs": [
    {
     "name": "stdout",
     "output_type": "stream",
     "text": [
      "Files already downloaded and verified\n",
      "Files already downloaded and verified\n",
      "Train size 50000\n",
      "Test size 10000\n"
     ]
    }
   ],
   "source": [
    "batch_size = 64\n",
    "kernel = torch.Tensor([[1]])\n",
    "train_transform = torchvision.transforms.Compose([\n",
    "    torchvision.transforms.ToTensor(),\n",
    "    #Bluring(kernel)\n",
    "])\n",
    "\n",
    "test_transform = torchvision.transforms.Compose([\n",
    "    torchvision.transforms.ToTensor()\n",
    "])    \n",
    "\n",
    "train_set = torchvision.datasets.CIFAR10(data_path, train=True, download=True, transform=train_transform )\n",
    "train_loader = torch.utils.data.DataLoader(train_set, shuffle=True, batch_size=batch_size, num_workers=3)\n",
    "\n",
    "test_set = torchvision.datasets.CIFAR10(data_path, train=False, download=True, transform=test_transform )\n",
    "test_loader = torch.utils.data.DataLoader(train_set, shuffle=True, batch_size=batch_size, num_workers=3)\n",
    "classes = ('plane', 'car', 'bird', 'cat', 'deer', 'dog', 'frog', 'horse', 'ship', 'truck')\n",
    "\n",
    "print('Train size', len(train_set))\n",
    "print('Test size', len(test_set))"
   ]
  },
  {
   "cell_type": "code",
   "execution_count": 8,
   "id": "9905a3bf",
   "metadata": {},
   "outputs": [],
   "source": [
    "def check_blur(loader,ind, bluring):\n",
    "    num = 2\n",
    "    size = 6\n",
    "    dataset = loader.dataset\n",
    "    fig, ax = plt.subplots(num,2,figsize=(num*size/2,size))\n",
    "    for i in range (num):\n",
    "        ax[i][0].axis('off')\n",
    "        ax[i][1].axis('off')\n",
    "        \n",
    "        img = dataset[ind+i][0][:,:,:]\n",
    "        blur_img = bluring(img.to(device)).cpu()\n",
    "        title_img = str('original ' + classes[dataset[ind+i][1]] + 'shape ' + str(img.shape))\n",
    "        title_blur_img = str('blured ' + classes[dataset[ind+i][1]] + 'shape ' + str(blur_img.shape))\n",
    "        ax[i][0].set_title(title_img, fontsize = 8)\n",
    "        ax[i][1].set_title(title_blur_img, fontsize = 8)\n",
    "\n",
    "        ax[i][0].imshow(img.permute(1,2,0))\n",
    "        ax[i][1].imshow(blur_img.permute(1,2,0))"
   ]
  },
  {
   "cell_type": "code",
   "execution_count": 9,
   "id": "1028e607",
   "metadata": {
    "scrolled": true
   },
   "outputs": [
    {
     "data": {
      "image/png": "[encoded data removed]",
      "text/plain": [
       "<Figure size 600x600 with 4 Axes>"
      ]
     },
     "metadata": {},
     "output_type": "display_data"
    }
   ],
   "source": [
    "kernel = torch.Tensor([[1],\n",
    "                       [1],\n",
    "                       [1],\n",
    "                       [1],\n",
    "                       [1],\n",
    "                      ])\n",
    "blur_func = Bluring(kernel)\n",
    "ind = 18\n",
    "\n",
    "check_blur(train_loader, ind, blur_func)"
   ]
  },
  {
   "cell_type": "code",
   "execution_count": 75,
   "id": "79d05212",
   "metadata": {},
   "outputs": [],
   "source": [
    "class FC_Net(nn.Module):\n",
    "    def __init__(self, shape):\n",
    "        #super(FC_Net, self).__init__()\n",
    "        super().__init__()\n",
    "        self.shape = shape\n",
    "        self.fc = nn.Linear(shape.numel(),shape.numel(), bias=False)\n",
    "        #self.flat = nn.Flatten()\n",
    "        \n",
    "    def forward(self,x):\n",
    "        #x = self.flat(x)\n",
    "        x = x.view(-1,self.shape.numel())\n",
    "        #print(x.shape)\n",
    "        out = self.fc(x).view(-1, *self.shape)  \n",
    "        return out"
   ]
  },
  {
   "cell_type": "code",
   "execution_count": 21,
   "id": "fabeef65",
   "metadata": {},
   "outputs": [],
   "source": [
    "def epoch_train(loader, clf, criterion, opt, blur_func):\n",
    "    # BEGIN Solution (do not delete this comment!)\n",
    "    clf.train(True)\n",
    "    all_loss = np.array([])\n",
    "    \n",
    "    for target, _ in loader:\n",
    "        target = target.to(device)\n",
    "        model_input = blur_func(target).to(device)\n",
    "        #model_input = target.to(device)\n",
    "\n",
    "        model_output = clf(model_input)\n",
    "        loss = criterion(model_output,target)\n",
    "\n",
    "        all_loss = np.append(all_loss, loss.cpu().detach().numpy())\n",
    "        \n",
    "        opt.zero_grad()\n",
    "        loss.backward()\n",
    "        opt.step()\n",
    "    return all_loss.mean()\n",
    "\n",
    "    # END Solution (do not delete this comment!)\n",
    "\n",
    "def epoch_test(loader, clf, criterion, blur_func):\n",
    "    # BEGIN Solution (do not delete this comment!)\n",
    "    clf.eval()\n",
    "    all_loss = np.array([])\n",
    "    \n",
    "    for target, _ in loader:\n",
    "        with torch.no_grad():\n",
    "            target = target.to(device)\n",
    "            model_input = blur_func(target)\n",
    "\n",
    "            model_output = clf(model_input)\n",
    "            loss = criterion(model_output,target)\n",
    "\n",
    "            all_loss = np.append(all_loss, loss.cpu().detach().numpy())\n",
    "    return all_loss.mean()\n",
    "    # END Solution (do not delete this comment!)\n",
    "\n",
    "# The function which you are going to use for model training\n",
    "def train(train_loader, test_loader, clf, criterion, opt, blur_func,n_epochs=50):\n",
    "    for epoch in tqdm(range(n_epochs)):\n",
    "        train_loss = epoch_train(train_loader, clf, criterion, opt, blur_func)\n",
    "        test_loss = epoch_test(test_loader, clf, criterion, blur_func)\n",
    "        print(f'[Epoch {epoch + 1}] train loss: {train_loss:.3f};' + \n",
    "              f'test loss: {test_loss:.3f};')"
   ]
  },
  {
   "cell_type": "code",
   "execution_count": 76,
   "id": "ca9061d3",
   "metadata": {},
   "outputs": [
    {
     "data": {
      "text/plain": [
       "tensor(0.0016)"
      ]
     },
     "execution_count": 76,
     "metadata": {},
     "output_type": "execute_result"
    }
   ],
   "source": [
    "img = train_loader.dataset[0][0]\n",
    "blured = blur_func(img)\n",
    "criterion(img, blured)"
   ]
  },
  {
   "cell_type": "code",
   "execution_count": 29,
   "id": "02e1e466",
   "metadata": {},
   "outputs": [
    {
     "data": {
      "text/plain": [
       "<bound method Module.parameters of FC_Net(\n",
       "  (fc): Linear(in_features=3072, out_features=3072, bias=True)\n",
       ")>"
      ]
     },
     "execution_count": 29,
     "metadata": {},
     "output_type": "execute_result"
    }
   ],
   "source": [
    "model.parameters"
   ]
  },
  {
   "cell_type": "code",
   "execution_count": 77,
   "id": "618e9549",
   "metadata": {},
   "outputs": [],
   "source": [
    "model = FC_Net(train_loader.dataset[0][0].shape).to(device)\n",
    "lr = 1e-3\n",
    "criterion = nn.MSELoss()\n",
    "optimizer = torch.optim.SGD(model.parameters(), lr=lr, momentum=0.9)\n",
    "\n",
    "kernel = torch.Tensor([[1,1,1]]).to(device)\n",
    "blur_func = Bluring(kernel)"
   ]
  },
  {
   "cell_type": "code",
   "execution_count": 78,
   "id": "e53f1e0f",
   "metadata": {},
   "outputs": [],
   "source": [
    "lr = 1e-3\n",
    "criterion = nn.MSELoss()\n",
    "optimizer = torch.optim.SGD(model.parameters(), lr=lr, momentum=0.9)"
   ]
  },
  {
   "cell_type": "code",
   "execution_count": 79,
   "id": "aeae7cd9",
   "metadata": {
    "scrolled": true
   },
   "outputs": [
    {
     "name": "stderr",
     "output_type": "stream",
     "text": [
      "  0%|                                                    | 0/50 [00:00<?, ?it/s]/home/nikolay/Documents/Environments/r2g_shutter/lib/python3.10/site-packages/torch/nn/modules/loss.py:536: UserWarning: Using a target size (torch.Size([64, 3, 32, 32])) that is different to the input size (torch.Size([1, 3, 32, 32])). This will likely lead to incorrect results due to broadcasting. Please ensure they have the same size.\n",
      "  return F.mse_loss(input, target, reduction=self.reduction)\n",
      "/home/nikolay/Documents/Environments/r2g_shutter/lib/python3.10/site-packages/torch/nn/modules/loss.py:536: UserWarning: Using a target size (torch.Size([16, 3, 32, 32])) that is different to the input size (torch.Size([1, 3, 32, 32])). This will likely lead to incorrect results due to broadcasting. Please ensure they have the same size.\n",
      "  return F.mse_loss(input, target, reduction=self.reduction)\n",
      "  2%|▉                                           | 1/50 [00:25<20:27, 25.05s/it]"
     ]
    },
    {
     "name": "stdout",
     "output_type": "stream",
     "text": [
      "[Epoch 1] train loss: 0.129;test loss: 0.089;\n"
     ]
    },
    {
     "name": "stderr",
     "output_type": "stream",
     "text": [
      "\r",
      "  4%|█▊                                          | 2/50 [00:50<20:13, 25.27s/it]"
     ]
    },
    {
     "name": "stdout",
     "output_type": "stream",
     "text": [
      "[Epoch 2] train loss: 0.088;test loss: 0.088;\n"
     ]
    },
    {
     "name": "stderr",
     "output_type": "stream",
     "text": [
      "\r",
      "  6%|██▋                                         | 3/50 [01:15<19:51, 25.36s/it]"
     ]
    },
    {
     "name": "stdout",
     "output_type": "stream",
     "text": [
      "[Epoch 3] train loss: 0.087;test loss: 0.087;\n"
     ]
    },
    {
     "name": "stderr",
     "output_type": "stream",
     "text": [
      "\r",
      "  8%|███▌                                        | 4/50 [01:41<19:22, 25.28s/it]"
     ]
    },
    {
     "name": "stdout",
     "output_type": "stream",
     "text": [
      "[Epoch 4] train loss: 0.087;test loss: 0.087;\n"
     ]
    },
    {
     "name": "stderr",
     "output_type": "stream",
     "text": [
      "\r",
      " 10%|████▍                                       | 5/50 [02:06<19:03, 25.42s/it]"
     ]
    },
    {
     "name": "stdout",
     "output_type": "stream",
     "text": [
      "[Epoch 5] train loss: 0.085;test loss: 0.085;\n"
     ]
    },
    {
     "name": "stderr",
     "output_type": "stream",
     "text": [
      "\r",
      " 12%|█████▎                                      | 6/50 [02:32<18:43, 25.53s/it]"
     ]
    },
    {
     "name": "stdout",
     "output_type": "stream",
     "text": [
      "[Epoch 6] train loss: 0.083;test loss: 0.084;\n"
     ]
    },
    {
     "name": "stderr",
     "output_type": "stream",
     "text": [
      "\r",
      " 14%|██████▏                                     | 7/50 [02:57<18:15, 25.48s/it]"
     ]
    },
    {
     "name": "stdout",
     "output_type": "stream",
     "text": [
      "[Epoch 7] train loss: 0.083;test loss: 0.083;\n"
     ]
    },
    {
     "name": "stderr",
     "output_type": "stream",
     "text": [
      "\r",
      " 16%|███████                                     | 8/50 [03:24<18:00, 25.73s/it]"
     ]
    },
    {
     "name": "stdout",
     "output_type": "stream",
     "text": [
      "[Epoch 8] train loss: 0.082;test loss: 0.084;\n"
     ]
    },
    {
     "name": "stderr",
     "output_type": "stream",
     "text": [
      "\r",
      " 18%|███████▉                                    | 9/50 [03:50<17:45, 25.98s/it]"
     ]
    },
    {
     "name": "stdout",
     "output_type": "stream",
     "text": [
      "[Epoch 9] train loss: 0.083;test loss: 0.082;\n"
     ]
    },
    {
     "name": "stderr",
     "output_type": "stream",
     "text": [
      "\r",
      " 20%|████████▌                                  | 10/50 [04:17<17:33, 26.34s/it]"
     ]
    },
    {
     "name": "stdout",
     "output_type": "stream",
     "text": [
      "[Epoch 10] train loss: 0.082;test loss: 0.082;\n"
     ]
    },
    {
     "name": "stderr",
     "output_type": "stream",
     "text": [
      "\r",
      " 22%|█████████▍                                 | 11/50 [04:47<17:41, 27.21s/it]"
     ]
    },
    {
     "name": "stdout",
     "output_type": "stream",
     "text": [
      "[Epoch 11] train loss: 0.082;test loss: 0.082;\n"
     ]
    },
    {
     "name": "stderr",
     "output_type": "stream",
     "text": [
      "\r",
      " 24%|██████████▎                                | 12/50 [05:15<17:25, 27.50s/it]"
     ]
    },
    {
     "name": "stdout",
     "output_type": "stream",
     "text": [
      "[Epoch 12] train loss: 0.081;test loss: 0.082;\n"
     ]
    },
    {
     "name": "stderr",
     "output_type": "stream",
     "text": [
      "\r",
      " 26%|███████████▏                               | 13/50 [05:44<17:23, 28.20s/it]"
     ]
    },
    {
     "name": "stdout",
     "output_type": "stream",
     "text": [
      "[Epoch 13] train loss: 0.081;test loss: 0.081;\n"
     ]
    },
    {
     "name": "stderr",
     "output_type": "stream",
     "text": [
      "\r",
      " 28%|████████████                               | 14/50 [06:14<17:07, 28.53s/it]"
     ]
    },
    {
     "name": "stdout",
     "output_type": "stream",
     "text": [
      "[Epoch 14] train loss: 0.080;test loss: 0.080;\n"
     ]
    },
    {
     "name": "stderr",
     "output_type": "stream",
     "text": [
      "\r",
      " 30%|████████████▉                              | 15/50 [06:43<16:45, 28.73s/it]"
     ]
    },
    {
     "name": "stdout",
     "output_type": "stream",
     "text": [
      "[Epoch 15] train loss: 0.081;test loss: 0.080;\n"
     ]
    },
    {
     "name": "stderr",
     "output_type": "stream",
     "text": [
      "\r",
      " 32%|█████████████▊                             | 16/50 [07:12<16:20, 28.83s/it]"
     ]
    },
    {
     "name": "stdout",
     "output_type": "stream",
     "text": [
      "[Epoch 16] train loss: 0.080;test loss: 0.080;\n"
     ]
    },
    {
     "name": "stderr",
     "output_type": "stream",
     "text": [
      "\r",
      " 34%|██████████████▌                            | 17/50 [07:40<15:43, 28.58s/it]"
     ]
    },
    {
     "name": "stdout",
     "output_type": "stream",
     "text": [
      "[Epoch 17] train loss: 0.081;test loss: 0.080;\n"
     ]
    },
    {
     "name": "stderr",
     "output_type": "stream",
     "text": [
      "\r",
      " 36%|███████████████▍                           | 18/50 [08:07<15:00, 28.14s/it]"
     ]
    },
    {
     "name": "stdout",
     "output_type": "stream",
     "text": [
      "[Epoch 18] train loss: 0.079;test loss: 0.081;\n"
     ]
    },
    {
     "name": "stderr",
     "output_type": "stream",
     "text": [
      "\r",
      " 38%|████████████████▎                          | 19/50 [08:33<14:14, 27.56s/it]"
     ]
    },
    {
     "name": "stdout",
     "output_type": "stream",
     "text": [
      "[Epoch 19] train loss: 0.079;test loss: 0.080;\n"
     ]
    },
    {
     "name": "stderr",
     "output_type": "stream",
     "text": [
      "\r",
      " 40%|█████████████████▏                         | 20/50 [09:00<13:35, 27.18s/it]"
     ]
    },
    {
     "name": "stdout",
     "output_type": "stream",
     "text": [
      "[Epoch 20] train loss: 0.080;test loss: 0.079;\n"
     ]
    },
    {
     "name": "stderr",
     "output_type": "stream",
     "text": [
      "\r",
      " 42%|██████████████████                         | 21/50 [09:26<13:00, 26.91s/it]"
     ]
    },
    {
     "name": "stdout",
     "output_type": "stream",
     "text": [
      "[Epoch 21] train loss: 0.080;test loss: 0.080;\n"
     ]
    },
    {
     "name": "stderr",
     "output_type": "stream",
     "text": [
      "\r",
      " 44%|██████████████████▉                        | 22/50 [09:52<12:24, 26.60s/it]"
     ]
    },
    {
     "name": "stdout",
     "output_type": "stream",
     "text": [
      "[Epoch 22] train loss: 0.080;test loss: 0.079;\n"
     ]
    },
    {
     "name": "stderr",
     "output_type": "stream",
     "text": [
      "\r",
      " 46%|███████████████████▊                       | 23/50 [10:18<11:54, 26.46s/it]"
     ]
    },
    {
     "name": "stdout",
     "output_type": "stream",
     "text": [
      "[Epoch 23] train loss: 0.078;test loss: 0.078;\n"
     ]
    },
    {
     "name": "stderr",
     "output_type": "stream",
     "text": [
      "\r",
      " 48%|████████████████████▋                      | 24/50 [10:44<11:25, 26.38s/it]"
     ]
    },
    {
     "name": "stdout",
     "output_type": "stream",
     "text": [
      "[Epoch 24] train loss: 0.077;test loss: 0.078;\n"
     ]
    },
    {
     "name": "stderr",
     "output_type": "stream",
     "text": [
      "\r",
      " 50%|█████████████████████▌                     | 25/50 [11:10<10:57, 26.30s/it]"
     ]
    },
    {
     "name": "stdout",
     "output_type": "stream",
     "text": [
      "[Epoch 25] train loss: 0.079;test loss: 0.080;\n"
     ]
    },
    {
     "name": "stderr",
     "output_type": "stream",
     "text": [
      "\r",
      " 52%|██████████████████████▎                    | 26/50 [11:36<10:28, 26.21s/it]"
     ]
    },
    {
     "name": "stdout",
     "output_type": "stream",
     "text": [
      "[Epoch 26] train loss: 0.079;test loss: 0.078;\n"
     ]
    },
    {
     "name": "stderr",
     "output_type": "stream",
     "text": [
      "\r",
      " 54%|███████████████████████▏                   | 27/50 [12:02<10:02, 26.20s/it]"
     ]
    },
    {
     "name": "stdout",
     "output_type": "stream",
     "text": [
      "[Epoch 27] train loss: 0.079;test loss: 0.079;\n"
     ]
    },
    {
     "name": "stderr",
     "output_type": "stream",
     "text": [
      "\r",
      " 56%|████████████████████████                   | 28/50 [12:29<09:36, 26.22s/it]"
     ]
    },
    {
     "name": "stdout",
     "output_type": "stream",
     "text": [
      "[Epoch 28] train loss: 0.078;test loss: 0.078;\n"
     ]
    },
    {
     "name": "stderr",
     "output_type": "stream",
     "text": [
      "\r",
      " 58%|████████████████████████▉                  | 29/50 [12:55<09:10, 26.22s/it]"
     ]
    },
    {
     "name": "stdout",
     "output_type": "stream",
     "text": [
      "[Epoch 29] train loss: 0.078;test loss: 0.078;\n"
     ]
    },
    {
     "name": "stderr",
     "output_type": "stream",
     "text": [
      "\r",
      " 60%|█████████████████████████▊                 | 30/50 [13:21<08:45, 26.25s/it]"
     ]
    },
    {
     "name": "stdout",
     "output_type": "stream",
     "text": [
      "[Epoch 30] train loss: 0.078;test loss: 0.080;\n"
     ]
    },
    {
     "name": "stderr",
     "output_type": "stream",
     "text": [
      "\r",
      " 62%|██████████████████████████▋                | 31/50 [13:47<08:18, 26.21s/it]"
     ]
    },
    {
     "name": "stdout",
     "output_type": "stream",
     "text": [
      "[Epoch 31] train loss: 0.077;test loss: 0.077;\n"
     ]
    },
    {
     "name": "stderr",
     "output_type": "stream",
     "text": [
      "\r",
      " 64%|███████████████████████████▌               | 32/50 [14:14<07:52, 26.24s/it]"
     ]
    },
    {
     "name": "stdout",
     "output_type": "stream",
     "text": [
      "[Epoch 32] train loss: 0.078;test loss: 0.079;\n"
     ]
    },
    {
     "name": "stderr",
     "output_type": "stream",
     "text": [
      "\r",
      " 66%|████████████████████████████▍              | 33/50 [14:40<07:26, 26.25s/it]"
     ]
    },
    {
     "name": "stdout",
     "output_type": "stream",
     "text": [
      "[Epoch 33] train loss: 0.077;test loss: 0.077;\n"
     ]
    },
    {
     "name": "stderr",
     "output_type": "stream",
     "text": [
      "\r",
      " 68%|█████████████████████████████▏             | 34/50 [15:06<07:00, 26.25s/it]"
     ]
    },
    {
     "name": "stdout",
     "output_type": "stream",
     "text": [
      "[Epoch 34] train loss: 0.078;test loss: 0.078;\n"
     ]
    },
    {
     "name": "stderr",
     "output_type": "stream",
     "text": [
      "\r",
      " 70%|██████████████████████████████             | 35/50 [15:32<06:31, 26.11s/it]"
     ]
    },
    {
     "name": "stdout",
     "output_type": "stream",
     "text": [
      "[Epoch 35] train loss: 0.077;test loss: 0.078;\n"
     ]
    },
    {
     "name": "stderr",
     "output_type": "stream",
     "text": [
      "\r",
      " 72%|██████████████████████████████▉            | 36/50 [15:58<06:05, 26.11s/it]"
     ]
    },
    {
     "name": "stdout",
     "output_type": "stream",
     "text": [
      "[Epoch 36] train loss: 0.078;test loss: 0.078;\n"
     ]
    },
    {
     "name": "stderr",
     "output_type": "stream",
     "text": [
      "\r",
      " 74%|███████████████████████████████▊           | 37/50 [16:24<05:38, 26.07s/it]"
     ]
    },
    {
     "name": "stdout",
     "output_type": "stream",
     "text": [
      "[Epoch 37] train loss: 0.078;test loss: 0.077;\n"
     ]
    },
    {
     "name": "stderr",
     "output_type": "stream",
     "text": [
      "\r",
      " 76%|████████████████████████████████▋          | 38/50 [16:50<05:13, 26.14s/it]"
     ]
    },
    {
     "name": "stdout",
     "output_type": "stream",
     "text": [
      "[Epoch 38] train loss: 0.077;test loss: 0.077;\n"
     ]
    },
    {
     "name": "stderr",
     "output_type": "stream",
     "text": [
      "\r",
      " 78%|█████████████████████████████████▌         | 39/50 [17:17<04:48, 26.19s/it]"
     ]
    },
    {
     "name": "stdout",
     "output_type": "stream",
     "text": [
      "[Epoch 39] train loss: 0.077;test loss: 0.077;\n"
     ]
    },
    {
     "name": "stderr",
     "output_type": "stream",
     "text": [
      "\r",
      " 80%|██████████████████████████████████▍        | 40/50 [17:43<04:22, 26.24s/it]"
     ]
    },
    {
     "name": "stdout",
     "output_type": "stream",
     "text": [
      "[Epoch 40] train loss: 0.077;test loss: 0.077;\n"
     ]
    },
    {
     "name": "stderr",
     "output_type": "stream",
     "text": [
      "\r",
      " 82%|███████████████████████████████████▎       | 41/50 [18:09<03:55, 26.20s/it]"
     ]
    },
    {
     "name": "stdout",
     "output_type": "stream",
     "text": [
      "[Epoch 41] train loss: 0.077;test loss: 0.078;\n"
     ]
    },
    {
     "name": "stderr",
     "output_type": "stream",
     "text": [
      "\r",
      " 84%|████████████████████████████████████       | 42/50 [18:35<03:29, 26.24s/it]"
     ]
    },
    {
     "name": "stdout",
     "output_type": "stream",
     "text": [
      "[Epoch 42] train loss: 0.078;test loss: 0.077;\n"
     ]
    },
    {
     "name": "stderr",
     "output_type": "stream",
     "text": [
      "\r",
      " 86%|████████████████████████████████████▉      | 43/50 [19:01<03:03, 26.18s/it]"
     ]
    },
    {
     "name": "stdout",
     "output_type": "stream",
     "text": [
      "[Epoch 43] train loss: 0.077;test loss: 0.078;\n"
     ]
    },
    {
     "name": "stderr",
     "output_type": "stream",
     "text": [
      "\r",
      " 88%|█████████████████████████████████████▊     | 44/50 [19:28<02:37, 26.21s/it]"
     ]
    },
    {
     "name": "stdout",
     "output_type": "stream",
     "text": [
      "[Epoch 44] train loss: 0.078;test loss: 0.077;\n"
     ]
    },
    {
     "name": "stderr",
     "output_type": "stream",
     "text": [
      "\r",
      " 90%|██████████████████████████████████████▋    | 45/50 [19:54<02:10, 26.16s/it]"
     ]
    },
    {
     "name": "stdout",
     "output_type": "stream",
     "text": [
      "[Epoch 45] train loss: 0.077;test loss: 0.077;\n"
     ]
    },
    {
     "name": "stderr",
     "output_type": "stream",
     "text": [
      "\r",
      " 92%|███████████████████████████████████████▌   | 46/50 [20:20<01:44, 26.20s/it]"
     ]
    },
    {
     "name": "stdout",
     "output_type": "stream",
     "text": [
      "[Epoch 46] train loss: 0.078;test loss: 0.077;\n"
     ]
    },
    {
     "name": "stderr",
     "output_type": "stream",
     "text": [
      "\r",
      " 94%|████████████████████████████████████████▍  | 47/50 [20:47<01:18, 26.26s/it]"
     ]
    },
    {
     "name": "stdout",
     "output_type": "stream",
     "text": [
      "[Epoch 47] train loss: 0.077;test loss: 0.077;\n"
     ]
    },
    {
     "name": "stderr",
     "output_type": "stream",
     "text": [
      "\r",
      " 96%|█████████████████████████████████████████▎ | 48/50 [21:13<00:52, 26.30s/it]"
     ]
    },
    {
     "name": "stdout",
     "output_type": "stream",
     "text": [
      "[Epoch 48] train loss: 0.078;test loss: 0.076;\n"
     ]
    },
    {
     "name": "stderr",
     "output_type": "stream",
     "text": [
      "\r",
      " 98%|██████████████████████████████████████████▏| 49/50 [21:39<00:26, 26.32s/it]"
     ]
    },
    {
     "name": "stdout",
     "output_type": "stream",
     "text": [
      "[Epoch 49] train loss: 0.077;test loss: 0.077;\n"
     ]
    },
    {
     "name": "stderr",
     "output_type": "stream",
     "text": [
      "100%|███████████████████████████████████████████| 50/50 [22:06<00:00, 26.52s/it]"
     ]
    },
    {
     "name": "stdout",
     "output_type": "stream",
     "text": [
      "[Epoch 50] train loss: 0.077;test loss: 0.076;\n"
     ]
    },
    {
     "name": "stderr",
     "output_type": "stream",
     "text": [
      "\n"
     ]
    }
   ],
   "source": [
    "train(train_loader, test_loader, model, criterion, optimizer,blur_func, n_epochs=50)"
   ]
  },
  {
   "cell_type": "code",
   "execution_count": 32,
   "id": "c98ef2db",
   "metadata": {},
   "outputs": [],
   "source": [
    "def check_blur_clf(loader,ind, bluring, clf):\n",
    "    num = 2\n",
    "    size = 12\n",
    "    dataset = loader.dataset\n",
    "    fig, ax = plt.subplots(num,3,figsize=(num*size/2,size*0.5))\n",
    "    for i in range (num):\n",
    "        ax[i][0].axis('off')\n",
    "        ax[i][1].axis('off')\n",
    "        ax[i][2].axis('off')\n",
    "        \n",
    "        img = dataset[ind+i][0][:,:,:]\n",
    "        blur_img = bluring(img.to(device))\n",
    "        unblur_img = clf(blur_img).cpu().detach()\n",
    "        unblur_img = unblur_img.view(*blur_img.shape)\n",
    "        print(unblur_img.shape)\n",
    "        title_img = str('original ' + classes[dataset[ind+i][1]] + 'shape ' + str(img.shape))\n",
    "        title_blur_img = str('blured ' + classes[dataset[ind+i][1]] + 'shape ' + str(blur_img.shape))\n",
    "        title_unblur_img = str('unblured ' + classes[dataset[ind+i][1]] + 'shape ' + str(unblur_img.shape))\n",
    "        ax[i][0].set_title(title_img, fontsize = 8)\n",
    "        ax[i][1].set_title(title_blur_img, fontsize = 8)\n",
    "        ax[i][2].set_title(title_unblur_img, fontsize = 8)\n",
    "\n",
    "        ax[i][0].imshow(img.permute(1,2,0))\n",
    "        ax[i][1].imshow(blur_img.cpu().permute(1,2,0))\n",
    "        ax[i][2].imshow(unblur_img.cpu().permute(1,2,0))"
   ]
  },
  {
   "cell_type": "code",
   "execution_count": 33,
   "id": "e1cc20b7",
   "metadata": {},
   "outputs": [
    {
     "name": "stdout",
     "output_type": "stream",
     "text": [
      "torch.Size([3, 32, 32])\n",
      "torch.Size([3, 32, 32])\n"
     ]
    },
    {
     "data": {
      "image/png": "[encoded data removed]",
      "text/plain": [
       "<Figure size 1200x600 with 6 Axes>"
      ]
     },
     "metadata": {},
     "output_type": "display_data"
    }
   ],
   "source": [
    "kernel = torch.Tensor([[1,1,1]])\n",
    "blur_func = Bluring(kernel)\n",
    "ind = 18\n",
    "\n",
    "check_blur_clf(train_loader, ind, blur_func,model)"
   ]
  },
  {
   "cell_type": "code",
   "execution_count": 63,
   "id": "91dfcfe8",
   "metadata": {
    "scrolled": true
   },
   "outputs": [],
   "source": [
    "param = list(model.parameters())"
   ]
  },
  {
   "cell_type": "code",
   "execution_count": 74,
   "id": "b92a8cfa",
   "metadata": {
    "scrolled": true
   },
   "outputs": [
    {
     "data": {
      "text/plain": [
       "torch.nn.parameter.Parameter"
      ]
     },
     "execution_count": 74,
     "metadata": {},
     "output_type": "execute_result"
    }
   ],
   "source": [
    "type(param[0])"
   ]
  },
  {
   "cell_type": "code",
   "execution_count": 73,
   "id": "48997a0b",
   "metadata": {},
   "outputs": [
    {
     "data": {
      "text/plain": [
       "tensor([[1., 0., 0.,  ..., 0., 0., 0.],\n",
       "        [0., 1., 0.,  ..., 0., 0., 0.],\n",
       "        [0., 0., 1.,  ..., 0., 0., 0.],\n",
       "        ...,\n",
       "        [0., 0., 0.,  ..., 1., 0., 0.],\n",
       "        [0., 0., 0.,  ..., 0., 1., 0.],\n",
       "        [0., 0., 0.,  ..., 0., 0., 1.]])"
      ]
     },
     "execution_count": 73,
     "metadata": {},
     "output_type": "execute_result"
    }
   ],
   "source": [
    "new_paramtorch.eye(param[0].shape[0])"
   ]
  }
 ],
 "metadata": {
  "kernelspec": {
   "display_name": "Python 3 (ipykernel)",
   "language": "python",
   "name": "python3"
  },
  "language_info": {
   "codemirror_mode": {
    "name": "ipython",
    "version": 3
   },
   "file_extension": ".py",
   "mimetype": "text/x-python",
   "name": "python",
   "nbconvert_exporter": "python",
   "pygments_lexer": "ipython3",
   "version": "3.10.6"
  }
 },
 "nbformat": 4,
 "nbformat_minor": 5
}
